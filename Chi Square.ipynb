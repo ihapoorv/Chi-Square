{
 "cells": [
  {
   "cell_type": "markdown",
   "metadata": {},
   "source": [
    "#### Chi Square $\\chi^2$ (categorical ~ categorical)\n",
    "Computes the chi-square, $\\chi^2$ , statistic and p-value for the hypothesis test of independence of frequencies in the observed contingency table (cross-table). The observed frequencies are tested against an expected contingency table obtained by computing expected frequencies based on the marginal sums under the assumption of independence.<br>\n",
    "Example: 20 participants: 10 exposed to some chemical product and 10 non exposed (exposed\n",
    "= 1 or 0). Among the 20 participants 10 had cancer 10 not (cancer = 1 or 0). $\\chi^2$ tests the\n",
    "association between those two variables."
   ]
  },
  {
   "cell_type": "code",
   "execution_count": 1,
   "metadata": {},
   "outputs": [
    {
     "name": "stdout",
     "output_type": "stream",
     "text": [
      "Observed table:\n",
      "---------------\n",
      "cancer   0  1\n",
      "exposed      \n",
      "0        8  2\n",
      "1        2  8\n",
      "Statistics:\n",
      "-----------\n",
      "Chi2 = 5.000000, pval = 0.025347\n",
      "Expected table:\n",
      "---------------\n",
      "[[5. 5.]\n",
      " [5. 5.]]\n"
     ]
    }
   ],
   "source": [
    "import numpy as np\n",
    "import pandas as pd\n",
    "import scipy.stats as stats\n",
    "# Dataset:\n",
    "# 15 samples:\n",
    "# 10 first exposed\n",
    "exposed = np.array([1] * 10 + [0] * 10)\n",
    "# 8 first with cancer, 10 without, the last two with.\n",
    "cancer = np.array([1] * 8 + [0] * 10 + [1] * 2)\n",
    "crosstab = pd.crosstab(exposed, cancer, rownames=['exposed'],\n",
    "colnames=['cancer'])\n",
    "print(\"Observed table:\")\n",
    "print(\"---------------\")\n",
    "print(crosstab)\n",
    "chi2, pval, dof, expected = stats.chi2_contingency(crosstab)\n",
    "print(\"Statistics:\")\n",
    "print(\"-----------\")\n",
    "print(\"Chi2 = %f, pval = %f\" % (chi2, pval))\n",
    "print(\"Expected table:\")\n",
    "print(\"---------------\")\n",
    "print(expected)"
   ]
  },
  {
   "cell_type": "code",
   "execution_count": 2,
   "metadata": {},
   "outputs": [
    {
     "name": "stdout",
     "output_type": "stream",
     "text": [
      "Exposed frequency? Yes: 0.50 No: 0.50\n",
      "Cancer frequency? Yes: 0.50 No: 0.50\n",
      "Expected frequencies:\n",
      "[[0.25 0.25]\n",
      " [0.25 0.25]]\n",
      "Expected cross-table (frequencies * N): \n",
      "[[5. 5.]\n",
      " [5. 5.]]\n"
     ]
    }
   ],
   "source": [
    "# Compute expected cross-table based on proportion\n",
    "exposed_marg = crosstab.sum(axis=0)\n",
    "exposed_freq = exposed_marg / exposed_marg.sum()\n",
    "cancer_marg = crosstab.sum(axis=1)\n",
    "cancer_freq = cancer_marg / cancer_marg.sum()\n",
    "print('Exposed frequency? Yes: %.2f' % exposed_freq[0],'No: %.2f' % exposed_freq[1])\n",
    "print('Cancer frequency? Yes: %.2f' % cancer_freq[0],'No: %.2f' % cancer_freq[1])\n",
    "print('Expected frequencies:')\n",
    "print(np.outer(exposed_freq, cancer_freq))\n",
    "print('Expected cross-table (frequencies * N): ')\n",
    "print(np.outer(exposed_freq, cancer_freq) * len(exposed))"
   ]
  },
  {
   "cell_type": "markdown",
   "metadata": {},
   "source": [
    "### Non-parametric test of pairwise associations\n",
    "#### Spearman rank-order correlation (quantitative ~ quantitative)\n",
    "The Spearman correlation is a non-parametric measure of the monotonicity of the relationship between two datasets. When to use it? Observe the data distribution: - presence of outliers - the distribution of the residuals is not Gaussian. Like other correlation coefficients, this one varies between -1 and +1 with 0 implying no cor- relation. Correlations of -1 or +1 imply an exact monotonic relationship. Positive correlations imply that as x increases, so does y. Negative correlations imply that as x increases, y decreases."
   ]
  },
  {
   "cell_type": "code",
   "execution_count": 4,
   "metadata": {},
   "outputs": [
    {
     "name": "stdout",
     "output_type": "stream",
     "text": [
      "Non-Parametric Spearman cor test, cor: 0.7110, pval: 0.0095\n",
      "Parametric Pearson cor test: cor: 0.5263, pval: 0.0788\n"
     ]
    },
    {
     "data": {
      "image/png": "[encoded data removed]",
      "text/plain": [
       "<Figure size 432x288 with 1 Axes>"
      ]
     },
     "metadata": {
      "needs_background": "light"
     },
     "output_type": "display_data"
    }
   ],
   "source": [
    "import matplotlib.pyplot as plt\n",
    "x = np.array([44.4, 45.9, 41.9, 53.3, 44.7, 44.1, 50.7, 45.2, 46, 47, 48, 60.1])\n",
    "y = np.array([2.6, 3.1, 2.5, 5.0, 3.6, 4.0, 5.2, 2.8, 4, 4.1, 4.5, 3.8])\n",
    "plt.plot(x, y, \"bo\")\n",
    "# Non-Parametric Spearman\n",
    "cor, pval = stats.spearmanr(x, y)\n",
    "print(\"Non-Parametric Spearman cor test, cor: %.4f, pval: %.4f\" % (cor, pval))\n",
    "# Parametric Pearson cor test\n",
    "cor, pval = stats.pearsonr(x, y)\n",
    "print(\"Parametric Pearson cor test: cor: %.4f, pval: %.4f\" % (cor, pval))\n",
    "plt.show()"
   ]
  },
  {
   "cell_type": "markdown",
   "metadata": {},
   "source": [
    "#### Wilcoxon signed-rank test (quantitative ~ cte)\n",
    "The Wilcoxon signed-rank test is a non-parametric statistical hypothesis test used when com- paring two related samples, matched samples, or repeated measurements on a single sample to assess whether their population mean ranks differ (i.e. it is a paired difference test). It is equivalent to one-sample test of the difference of paired samples.<br>\n",
    "It can be used as an alternative to the paired Student’s t-test, t-test for matched pairs, or the t- test for dependent samples when the population cannot be assumed to be normally distributed. When to use it? Observe the data distribution: - presence of outliers - the distribution of the residuals is not Gaussian It has a lower sensitivity compared to t-test. May be problematic to use when the sample size is\n",
    "small.<br>\n",
    "Null hypothesis $H_0$ : difference between the pairs follows a symmetric distribution around zero."
   ]
  },
  {
   "cell_type": "code",
   "execution_count": 5,
   "metadata": {},
   "outputs": [
    {
     "name": "stdout",
     "output_type": "stream",
     "text": [
      "Ttest_relResult(statistic=0.8697315842006617, pvalue=0.3953021486612337)\n",
      "WilcoxonResult(statistic=49.0, pvalue=0.03656128916854718)\n"
     ]
    }
   ],
   "source": [
    "import scipy.stats as stats\n",
    "n = 20\n",
    "# Buisness Volume time 0\n",
    "bv0 = np.random.normal(loc=3, scale=.1, size=n)\n",
    "# Buisness Volume time 1\n",
    "bv1 = bv0 + 0.1 + np.random.normal(loc=0, scale=.1, size=n)\n",
    "# create an outlier\n",
    "bv1[0] -= 10\n",
    "# Paired t-test\n",
    "print(stats.ttest_rel(bv0, bv1))\n",
    "# Wilcoxon\n",
    "print(stats.wilcoxon(bv0, bv1))"
   ]
  },
  {
   "cell_type": "markdown",
   "metadata": {},
   "source": [
    "#### Mann–Whitney U test (quantitative ~ categorial (2 levels))\n",
    "In statistics, the Mann–Whitney U test (also called the Mann–Whitney–Wilcoxon, Wilcoxon\n",
    "rank-sum test or Wilcoxon–Mann–Whitney test) is a nonparametric test of the null hypothesis\n",
    "that two samples come from the same population against an alternative hypothesis, especially\n",
    "that a particular population tends to have larger values than the other.<br>\n",
    "It can be applied on unknown distributions contrary to e.g. a t-test that has to be applied only\n",
    "on normal distributions, and it is nearly as efficient as the t-test on normal distributions."
   ]
  },
  {
   "cell_type": "code",
   "execution_count": 6,
   "metadata": {},
   "outputs": [
    {
     "name": "stdout",
     "output_type": "stream",
     "text": [
      "Ttest_indResult(statistic=0.53372523028925, pvalue=0.5966401349598488)\n",
      "MannwhitneyuResult(statistic=30.0, pvalue=2.2700398199689824e-06)\n"
     ]
    }
   ],
   "source": [
    "import scipy.stats as stats\n",
    "n = 20\n",
    "# Buismess Volume group 0\n",
    "bv0 = np.random.normal(loc=1, scale=.1, size=n)\n",
    "# Buismess Volume group 1\n",
    "bv1 = np.random.normal(loc=1.2, scale=.1, size=n)\n",
    "# create an outlier\n",
    "bv1[0] -= 10\n",
    "# Two-samples t-test\n",
    "print(stats.ttest_ind(bv0, bv1))\n",
    "# Wilcoxon\n",
    "print(stats.mannwhitneyu(bv0, bv1))"
   ]
  },
  {
   "cell_type": "code",
   "execution_count": null,
   "metadata": {},
   "outputs": [],
   "source": []
  }
 ],
 "metadata": {
  "kernelspec": {
   "display_name": "Python 3",
   "language": "python",
   "name": "python3"
  },
  "language_info": {
   "codemirror_mode": {
    "name": "ipython",
    "version": 3
   },
   "file_extension": ".py",
   "mimetype": "text/x-python",
   "name": "python",
   "nbconvert_exporter": "python",
   "pygments_lexer": "ipython3",
   "version": "3.7.3"
  }
 },
 "nbformat": 4,
 "nbformat_minor": 2
}
